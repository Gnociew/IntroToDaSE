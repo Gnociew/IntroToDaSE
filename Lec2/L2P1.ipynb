{
 "cells": [
  {
   "cell_type": "code",
   "execution_count": 2,
   "metadata": {},
   "outputs": [
    {
     "name": "stdout",
     "output_type": "stream",
     "text": [
      "4\n",
      "[2, 2]\n"
     ]
    }
   ],
   "source": [
    "n = input()\n",
    "n = int(n)\n",
    "\n",
    "list = []\n",
    "list2 = []\n",
    "s = []\n",
    "flag = []\n",
    "for i in range(0,n+1):\n",
    "    list.append(0)\n",
    "    list2.append([])\n",
    "    s.append(0)\n",
    "    flag.append(-1)\n",
    "\n",
    "list[0] = 0\n",
    "list[1] = 1\n",
    "max = 0\n",
    "\n",
    "for i in range(2,n+1) :\n",
    "    max = 0\n",
    "    mid = int(i/2)\n",
    "    for num1 in range(1,mid+1) :\n",
    "        num2 = i - num1\n",
    "        if num1 > list[num1] :\n",
    "            list[num1] = num1\n",
    "            list2[num1] = [num1]\n",
    "        if num2 > list[num2] :\n",
    "            list[num2] = num2\n",
    "            list2[num2] = [num2]\n",
    "        re = list[num1] * list[num2]\n",
    "        if re > max :\n",
    "            max = re\n",
    "            p = num1\n",
    "            q = num2\n",
    "    list[i] = max\n",
    "    list2[i] = list2[p] + list2[q]\n",
    "    s[i] = num1\n",
    "\n",
    "\n",
    "print(list[n])\n",
    "print(list2[n])"
   ]
  },
  {
   "cell_type": "markdown",
   "metadata": {},
   "source": [
    "（2）（3）本题我采用的是动态规划的方法，自底向上依次记录小事件的最优情况，且通过乘法结合律可知，大事件的最优情况必然包含小事件的最优情况，因此可以得到结果。对于过程的记录我采用二维数组，同样自底向上记录每个数字最优拆分，最后进行合并，得到答案。\n",
    "其中list是一个一维数组，list[n]记录了各子问题的最优情况。list2是一个二维数组，记录了组合的情况。\n",
    "在Python中我用到了一个和c语言不同的功能进行数组合并（list2[i] = list2[p] + list2[q]）,这种写法使得合并的效率大大提升。"
   ]
  }
 ],
 "metadata": {
  "kernelspec": {
   "display_name": "iueio",
   "language": "python",
   "name": "python3"
  },
  "language_info": {
   "codemirror_mode": {
    "name": "ipython",
    "version": 3
   },
   "file_extension": ".py",
   "mimetype": "text/x-python",
   "name": "python",
   "nbconvert_exporter": "python",
   "pygments_lexer": "ipython3",
   "version": "3.8.16"
  },
  "orig_nbformat": 4
 },
 "nbformat": 4,
 "nbformat_minor": 2
}
