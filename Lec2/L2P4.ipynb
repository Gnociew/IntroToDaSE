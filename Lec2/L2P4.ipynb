{
 "cells": [
  {
   "cell_type": "code",
   "execution_count": 1,
   "metadata": {},
   "outputs": [
    {
     "name": "stdout",
     "output_type": "stream",
     "text": [
      "1.4142136573791504\n"
     ]
    }
   ],
   "source": [
    "x = 2\n",
    "\n",
    "mid = x/2\n",
    "left = 0\n",
    "right = x\n",
    "r= 1\n",
    "r = mid * mid\n",
    "while x - r > (1e-6) or r - x > (1e-6) :\n",
    "    if r > x :\n",
    "        right = mid\n",
    "        mid = (left + right) / 2\n",
    "    else :\n",
    "        left = mid\n",
    "        mid = (left + right) / 2\n",
    "    r = mid * mid\n",
    "\n",
    "print(mid)"
   ]
  },
  {
   "cell_type": "markdown",
   "metadata": {},
   "source": [
    "我采用二分法来求解2的平方根，并通过while循环来限制精度，当达到一定精度时即认为找到了解并跳出循环。"
   ]
  }
 ],
 "metadata": {
  "kernelspec": {
   "display_name": "iueio",
   "language": "python",
   "name": "python3"
  },
  "language_info": {
   "codemirror_mode": {
    "name": "ipython",
    "version": 3
   },
   "file_extension": ".py",
   "mimetype": "text/x-python",
   "name": "python",
   "nbconvert_exporter": "python",
   "pygments_lexer": "ipython3",
   "version": "3.8.16"
  },
  "orig_nbformat": 4
 },
 "nbformat": 4,
 "nbformat_minor": 2
}
