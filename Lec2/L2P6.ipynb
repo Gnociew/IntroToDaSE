{
 "cells": [
  {
   "cell_type": "code",
   "execution_count": 3,
   "metadata": {},
   "outputs": [
    {
     "name": "stdout",
     "output_type": "stream",
     "text": [
      "1:1.5000000000000\n",
      "2:1.4166666666667\n",
      "3:1.4142156862745\n",
      "4:1.4142135623747\n"
     ]
    }
   ],
   "source": [
    "def Square_root_3():\n",
    "    c = 2\n",
    "    g = c\n",
    "    i = 0\n",
    "    while(abs(g*g-c)>0.00000000001):\n",
    "        g = (g + c/g)/2\n",
    "        i = i+1\n",
    "        print (\"%d:%.13f\"%(i,g))\n",
    "\n",
    "Square_root_3()"
   ]
  },
  {
   "cell_type": "code",
   "execution_count": 5,
   "metadata": {},
   "outputs": [
    {
     "name": "stdout",
     "output_type": "stream",
     "text": [
      "1:2.2500000000000\n",
      "2:1.5694444444444\n",
      "3:1.4218903638151\n",
      "4:1.4142342859401\n",
      "5:1.4142135625249\n",
      "6:1.4142135623731\n"
     ]
    }
   ],
   "source": [
    "def Square_root_3():\n",
    "    c = 2\n",
    "    g = c/4\n",
    "    i = 0\n",
    "    while(abs(g*g-c)>0.00000000001):\n",
    "        g = (g + c/g)/2\n",
    "        i = i+1\n",
    "        print (\"%d:%.13f\"%(i,g))\n",
    "\n",
    "Square_root_3()"
   ]
  },
  {
   "cell_type": "markdown",
   "metadata": {},
   "source": [
    "没有影响，牛顿法是通过迭代来逼近曲线的根，改变g的初始值只是改变开始逼近的起点，对最后的结果没有影响"
   ]
  }
 ],
 "metadata": {
  "kernelspec": {
   "display_name": "iueio",
   "language": "python",
   "name": "python3"
  },
  "language_info": {
   "codemirror_mode": {
    "name": "ipython",
    "version": 3
   },
   "file_extension": ".py",
   "mimetype": "text/x-python",
   "name": "python",
   "nbconvert_exporter": "python",
   "pygments_lexer": "ipython3",
   "version": "3.8.16"
  },
  "orig_nbformat": 4
 },
 "nbformat": 4,
 "nbformat_minor": 2
}
