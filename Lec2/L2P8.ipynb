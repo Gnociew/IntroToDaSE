{
 "cells": [
  {
   "cell_type": "code",
   "execution_count": null,
   "metadata": {},
   "outputs": [],
   "source": [
    "import random\n",
    "count = 0\n",
    "for i in range(0,10**8):\n",
    "    x = random.random()\n",
    "    y = random.random()\n",
    "    if x**2 + y**2 <= 1:\n",
    "        count+=1\n",
    "q = count / 10**8\n",
    "pai = 4*q\n",
    "print(\"%.10f\"%pai)\n"
   ]
  },
  {
   "cell_type": "code",
   "execution_count": null,
   "metadata": {},
   "outputs": [],
   "source": [
    "result = 0\n",
    "for i in range(0,100000):\n",
    "    result = result + (-1)**i / (2*i + 1)\n",
    "pai = 4 * result\n",
    "print(\"%.10f\"%pai)"
   ]
  },
  {
   "cell_type": "code",
   "execution_count": 6,
   "metadata": {},
   "outputs": [
    {
     "name": "stdout",
     "output_type": "stream",
     "text": [
      "3.1414533620\n"
     ]
    }
   ],
   "source": [
    "# d = 3  l = 2\n",
    "import random\n",
    "import numpy as np\n",
    "\n",
    "count = 0\n",
    "for i in range(0,1000000):\n",
    "    x = random.uniform(0,1.5)\n",
    "    y = random.uniform(0,np.pi)\n",
    "\n",
    "    if x <= np.sin(y) :\n",
    "        count+=1\n",
    "p = count / 1000000\n",
    "pai = (2*2) / (p*3)\n",
    "print(\"%.10f\"%pai)\n"
   ]
  }
 ],
 "metadata": {
  "kernelspec": {
   "display_name": "iueio",
   "language": "python",
   "name": "python3"
  },
  "language_info": {
   "codemirror_mode": {
    "name": "ipython",
    "version": 3
   },
   "file_extension": ".py",
   "mimetype": "text/x-python",
   "name": "python",
   "nbconvert_exporter": "python",
   "pygments_lexer": "ipython3",
   "version": "3.8.16"
  },
  "orig_nbformat": 4
 },
 "nbformat": 4,
 "nbformat_minor": 2
}
